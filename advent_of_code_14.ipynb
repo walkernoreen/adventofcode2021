{
 "cells": [
  {
   "cell_type": "markdown",
   "id": "heard-reunion",
   "metadata": {},
   "source": [
    "Part A"
   ]
  },
  {
   "cell_type": "code",
   "execution_count": 33,
   "id": "humanitarian-submission",
   "metadata": {},
   "outputs": [],
   "source": [
    "with open(\"input14.txt\",\"r\") as f:\n",
    "    lines=f.readlines()"
   ]
  },
  {
   "cell_type": "code",
   "execution_count": 34,
   "id": "attractive-diploma",
   "metadata": {},
   "outputs": [
    {
     "data": {
      "text/plain": [
       "'OFSVVSFOCBNONHKFHNPK'"
      ]
     },
     "execution_count": 34,
     "metadata": {},
     "output_type": "execute_result"
    }
   ],
   "source": [
    "starter=lines[0].strip(\"\\n\")\n",
    "starter"
   ]
  },
  {
   "cell_type": "code",
   "execution_count": 35,
   "id": "relative-graph",
   "metadata": {},
   "outputs": [
    {
     "data": {
      "text/plain": [
       "[['HN', 'C'], ['VB', 'K'], ['PF', 'C'], ['BO', 'F'], ['PB', 'F']]"
      ]
     },
     "execution_count": 35,
     "metadata": {},
     "output_type": "execute_result"
    }
   ],
   "source": [
    "insertions_raw=[line.strip(\"\\n\").split(\" -> \") for line in lines[2:]]\n",
    "insertions_raw[:5]                "
   ]
  },
  {
   "cell_type": "code",
   "execution_count": 42,
   "id": "threaded-flour",
   "metadata": {},
   "outputs": [],
   "source": [
    "#dict with dict[\"HN\"]=\"C\" etc.\n",
    "insertion_rules={pair[0]:pair[1] for pair in insertions_raw}\n",
    "#insertion_rules"
   ]
  },
  {
   "cell_type": "code",
   "execution_count": 43,
   "id": "textile-serial",
   "metadata": {},
   "outputs": [],
   "source": [
    "# keep track of how many element pairs of which kind exist. dict with e.g. dict[\"HC\"]=0\n",
    "pair_counter_start={pair[0]:0 for pair in insertions_raw}\n",
    "for idx in range(len(starter)-1):\n",
    "    pair_counter_start[starter[idx:idx+2]]+=1\n",
    "#pair_counter_start"
   ]
  },
  {
   "cell_type": "code",
   "execution_count": 44,
   "id": "loose-congress",
   "metadata": {},
   "outputs": [],
   "source": [
    "def do_one_insertion_round(pair_counter, insertion_rules):\n",
    "    \"\"\"current polymer is encoded in the pair counter dict\"\"\"\n",
    "    new_pair_counter=pair_counter.copy()\n",
    "    for pair,counter in pair_counter.items():\n",
    "        new_char=insertion_rules[pair]\n",
    "        new_pair_left=pair[0]+new_char\n",
    "        new_pair_right=new_char+pair[1]\n",
    "        \n",
    "        new_pair_counter[pair]-=counter\n",
    "        new_pair_counter[new_pair_left]+=counter\n",
    "        new_pair_counter[new_pair_right]+=counter\n",
    "        \n",
    "    return new_pair_counter"
   ]
  },
  {
   "cell_type": "code",
   "execution_count": 45,
   "id": "bridal-insulation",
   "metadata": {},
   "outputs": [],
   "source": [
    "pair_counter=pair_counter_start.copy()\n",
    "\n",
    "for idx in range(10):\n",
    "    pair_counter=do_one_insertion_round(pair_counter, insertion_rules)"
   ]
  },
  {
   "cell_type": "code",
   "execution_count": 48,
   "id": "uniform-corruption",
   "metadata": {},
   "outputs": [],
   "source": [
    "def compute_char_frequencies(pair_counter, start_char, end_char):\n",
    "    # start and end char stay the same all the time and occur only in one pair.\n",
    "    # all other chars in the polymer occur in 2 pairs\n",
    "    char_frequencies={}\n",
    "    for pair, counter in pair_counter.items():\n",
    "        if counter>0:\n",
    "            chars=[pair[0],pair[1]]\n",
    "            for char in chars:\n",
    "                if char in char_frequencies.keys():\n",
    "                    char_frequencies[char]+=counter\n",
    "                else:\n",
    "                    char_frequencies[char]=counter\n",
    "                        \n",
    "    # we counted everything double except for start and end char\n",
    "    char_frequencies[start_char]+=1\n",
    "    char_frequencies[end_char]+=1\n",
    "    \n",
    "    for char, counter in char_frequencies.items():\n",
    "        char_frequencies[char]=int(char_frequencies[char]/2)\n",
    "        \n",
    "    return char_frequencies\n",
    "    \n",
    "    "
   ]
  },
  {
   "cell_type": "code",
   "execution_count": 49,
   "id": "digital-final",
   "metadata": {},
   "outputs": [
    {
     "data": {
      "text/plain": [
       "{'H': 1797,\n",
       " 'N': 4285,\n",
       " 'V': 2050,\n",
       " 'B': 1151,\n",
       " 'P': 2777,\n",
       " 'F': 1318,\n",
       " 'O': 1596,\n",
       " 'C': 1539,\n",
       " 'S': 1943,\n",
       " 'K': 1001}"
      ]
     },
     "execution_count": 49,
     "metadata": {},
     "output_type": "execute_result"
    }
   ],
   "source": [
    "compute_char_frequencies(pair_counter, starter[0],starter[-1])"
   ]
  },
  {
   "cell_type": "code",
   "execution_count": 50,
   "id": "broken-shaft",
   "metadata": {},
   "outputs": [
    {
     "data": {
      "text/plain": [
       "3284"
      ]
     },
     "execution_count": 50,
     "metadata": {},
     "output_type": "execute_result"
    }
   ],
   "source": [
    "4285-1001"
   ]
  },
  {
   "cell_type": "markdown",
   "id": "digital-tanzania",
   "metadata": {},
   "source": [
    "Part B"
   ]
  },
  {
   "cell_type": "code",
   "execution_count": 51,
   "id": "pregnant-flood",
   "metadata": {},
   "outputs": [],
   "source": [
    "pair_counter=pair_counter_start.copy()\n",
    "\n",
    "for idx in range(40):\n",
    "    pair_counter=do_one_insertion_round(pair_counter, insertion_rules)"
   ]
  },
  {
   "cell_type": "code",
   "execution_count": 52,
   "id": "stable-southeast",
   "metadata": {},
   "outputs": [
    {
     "data": {
      "text/plain": [
       "{'H': 1753226545958,\n",
       " 'N': 5224941105516,\n",
       " 'V': 2299932080861,\n",
       " 'B': 1083544306272,\n",
       " 'P': 2635945447382,\n",
       " 'F': 1471801718164,\n",
       " 'O': 2202794261121,\n",
       " 'C': 1381228953516,\n",
       " 'S': 1915040933128,\n",
       " 'K': 922265575827}"
      ]
     },
     "execution_count": 52,
     "metadata": {},
     "output_type": "execute_result"
    }
   ],
   "source": [
    "compute_char_frequencies(pair_counter, starter[0],starter[-1])"
   ]
  },
  {
   "cell_type": "code",
   "execution_count": 53,
   "id": "sunset-somerset",
   "metadata": {},
   "outputs": [
    {
     "data": {
      "text/plain": [
       "4302675529689"
      ]
     },
     "execution_count": 53,
     "metadata": {},
     "output_type": "execute_result"
    }
   ],
   "source": [
    "5224941105516-922265575827"
   ]
  },
  {
   "cell_type": "code",
   "execution_count": null,
   "id": "associate-helicopter",
   "metadata": {},
   "outputs": [],
   "source": []
  }
 ],
 "metadata": {
  "kernelspec": {
   "display_name": "Python 3",
   "language": "python",
   "name": "python3"
  },
  "language_info": {
   "codemirror_mode": {
    "name": "ipython",
    "version": 3
   },
   "file_extension": ".py",
   "mimetype": "text/x-python",
   "name": "python",
   "nbconvert_exporter": "python",
   "pygments_lexer": "ipython3",
   "version": "3.7.10"
  }
 },
 "nbformat": 4,
 "nbformat_minor": 5
}
