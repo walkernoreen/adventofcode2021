{
 "cells": [
  {
   "cell_type": "markdown",
   "id": "fourth-rouge",
   "metadata": {},
   "source": [
    "Part A"
   ]
  },
  {
   "cell_type": "code",
   "execution_count": 32,
   "id": "facial-analyst",
   "metadata": {},
   "outputs": [],
   "source": [
    "import numpy as np\n",
    "from skimage import morphology\n",
    "import matplotlib.pyplot as plt"
   ]
  },
  {
   "cell_type": "code",
   "execution_count": 33,
   "id": "ignored-marina",
   "metadata": {},
   "outputs": [],
   "source": [
    "with open (\"input11.txt\",\"r\") as f:\n",
    "    lines=f.readlines()"
   ]
  },
  {
   "cell_type": "code",
   "execution_count": 34,
   "id": "lined-speaker",
   "metadata": {},
   "outputs": [],
   "source": [
    "for idx,line in enumerate(lines):\n",
    "    line=line.strip(\"\\n\")\n",
    "    line=[int(char) for char in line]\n",
    "    lines[idx]=line"
   ]
  },
  {
   "cell_type": "code",
   "execution_count": 35,
   "id": "photographic-angola",
   "metadata": {},
   "outputs": [
    {
     "data": {
      "text/plain": [
       "<matplotlib.image.AxesImage at 0x1d89cf79bc8>"
      ]
     },
     "execution_count": 35,
     "metadata": {},
     "output_type": "execute_result"
    },
    {
     "data": {
      "image/png": "[encoded data removed]",
      "text/plain": [
       "<Figure size 432x288 with 1 Axes>"
      ]
     },
     "metadata": {
      "needs_background": "light"
     },
     "output_type": "display_data"
    }
   ],
   "source": [
    "orig_img=np.array(lines)\n",
    "plt.imshow(orig_img)\n"
   ]
  },
  {
   "cell_type": "code",
   "execution_count": 36,
   "id": "varying-flexibility",
   "metadata": {},
   "outputs": [],
   "source": [
    "# orig_img=np.array([\n",
    "#     [5,4,8,3,1,4,3,2,2,3],\n",
    "# [2,7,4,5,8,5,4,7,1,1],\n",
    "# [5,2,6,4,5,5,6,1,7,3],\n",
    "# [6,1,4,1,3,3,6,1,4,6],\n",
    "# [6,3,5,7,3,8,5,4,7,8],\n",
    "# [4,1,6,7,5,2,4,6,4,5],\n",
    "# [2,1,7,6,8,4,1,7,2,1],\n",
    "# [6,8,8,2,8,8,1,1,3,4],\n",
    "# [4,8,4,6,8,4,8,5,5,4],\n",
    "# [5,2,8,3,7,5,1,5,2,6]\n",
    "#     ])"
   ]
  },
  {
   "cell_type": "code",
   "execution_count": 40,
   "id": "pressing-cincinnati",
   "metadata": {},
   "outputs": [],
   "source": [
    "def one_round(img):\n",
    "    # update energylevel\n",
    "    img=(img+1)%10\n",
    "    \n",
    "    is_flashable=np.ones_like(img)\n",
    "\n",
    "    done=False\n",
    "    \n",
    "    nflashes=0\n",
    "    \n",
    "    while not done:\n",
    "        # find flashing octopuses\n",
    "        rows,cols=np.where(np.logical_and(img==0,is_flashable==1))\n",
    "        \n",
    "        if len(rows)==0:\n",
    "            done=True\n",
    "            \n",
    "        else:\n",
    "            nflashes+=len(rows)\n",
    "\n",
    "            # they can't flash again this round\n",
    "            is_flashable[rows,cols]=0\n",
    "\n",
    "            # update the neighbor octopuses\n",
    "            for r,c in zip(rows,cols):\n",
    "                rmin,rmax=max(0,r-1), min(r+1,9)\n",
    "                cmin,cmax=max(0,c-1), min(c+1,9)\n",
    "                \n",
    "                img_crop=img[rmin:rmax+1,cmin:cmax+1]\n",
    "                is_flashable_crop=is_flashable[rmin:rmax+1,cmin:cmax+1]\n",
    "                \n",
    "                is_zero_crop=(img_crop==0)\n",
    "                \n",
    "                # increase flashable neighbors by 1\n",
    "                updated_crop=is_flashable_crop*((img_crop+1)%10)\n",
    "                \n",
    "                # if squid turned 0 in this for loop (but is still flashable), keep it at 0\n",
    "                updated_crop[is_zero_crop]=0\n",
    "                \n",
    "                img[rmin:rmax+1,cmin:cmax+1]=updated_crop\n",
    "            \n",
    "    return img, nflashes\n"
   ]
  },
  {
   "cell_type": "code",
   "execution_count": 41,
   "id": "modern-investigation",
   "metadata": {},
   "outputs": [],
   "source": [
    "img=orig_img.copy()\n",
    "#print(img,\"\\n\")\n",
    "total_nflashes=0\n",
    "\n",
    "for idx in range(100):\n",
    "    img, nflashes=one_round(img)\n",
    "    total_nflashes+=nflashes\n",
    "    #print(img,nflashes,\"\\n\")"
   ]
  },
  {
   "cell_type": "code",
   "execution_count": 42,
   "id": "foreign-acrylic",
   "metadata": {},
   "outputs": [
    {
     "data": {
      "text/plain": [
       "1632"
      ]
     },
     "execution_count": 42,
     "metadata": {},
     "output_type": "execute_result"
    }
   ],
   "source": [
    "total_nflashes"
   ]
  },
  {
   "cell_type": "markdown",
   "id": "aquatic-gilbert",
   "metadata": {},
   "source": [
    "Part B"
   ]
  },
  {
   "cell_type": "code",
   "execution_count": 52,
   "id": "treated-temple",
   "metadata": {},
   "outputs": [],
   "source": [
    "img=orig_img.copy()\n",
    "\n",
    "nflashes=0\n",
    "idx=0\n",
    "\n",
    "while nflashes!=100: # 100 octopuses\n",
    "    img, nflashes=one_round(img)\n",
    "    idx+=1"
   ]
  },
  {
   "cell_type": "code",
   "execution_count": 53,
   "id": "protecting-portuguese",
   "metadata": {},
   "outputs": [
    {
     "data": {
      "text/plain": [
       "303"
      ]
     },
     "execution_count": 53,
     "metadata": {},
     "output_type": "execute_result"
    }
   ],
   "source": [
    "idx"
   ]
  },
  {
   "cell_type": "code",
   "execution_count": null,
   "id": "bronze-scoop",
   "metadata": {},
   "outputs": [],
   "source": []
  }
 ],
 "metadata": {
  "kernelspec": {
   "display_name": "Python 3",
   "language": "python",
   "name": "python3"
  },
  "language_info": {
   "codemirror_mode": {
    "name": "ipython",
    "version": 3
   },
   "file_extension": ".py",
   "mimetype": "text/x-python",
   "name": "python",
   "nbconvert_exporter": "python",
   "pygments_lexer": "ipython3",
   "version": "3.7.10"
  }
 },
 "nbformat": 4,
 "nbformat_minor": 5
}
