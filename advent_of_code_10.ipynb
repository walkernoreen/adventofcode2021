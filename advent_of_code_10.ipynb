{
 "cells": [
  {
   "cell_type": "markdown",
   "id": "loaded-uncertainty",
   "metadata": {},
   "source": [
    "Part A"
   ]
  },
  {
   "cell_type": "code",
   "execution_count": 74,
   "id": "latin-istanbul",
   "metadata": {},
   "outputs": [],
   "source": [
    "with open(\"input10.txt\",\"r\") as f:\n",
    "    lines=f.readlines()\n",
    "lines=[line.strip(\"\\n\") for line in lines]"
   ]
  },
  {
   "cell_type": "code",
   "execution_count": 2,
   "id": "hungarian-sociology",
   "metadata": {},
   "outputs": [],
   "source": [
    "penalties={\n",
    "    \")\": 3,\n",
    "    \"]\": 57,\n",
    "    \"}\": 1197,\n",
    "    \">\": 25137\n",
    "}"
   ]
  },
  {
   "cell_type": "code",
   "execution_count": 3,
   "id": "intended-market",
   "metadata": {},
   "outputs": [],
   "source": [
    "char_inverter={\n",
    "    \")\":\"(\",\n",
    "    \"]\":\"[\",\n",
    "    \">\":\"<\",\n",
    "    \"}\":\"{\"\n",
    "}"
   ]
  },
  {
   "cell_type": "code",
   "execution_count": 27,
   "id": "designing-remove",
   "metadata": {},
   "outputs": [
    {
     "name": "stdout",
     "output_type": "stream",
     "text": [
      "error:  >\n",
      "error:  )\n",
      "error:  >\n",
      "error:  ]\n",
      "error:  ]\n",
      "error:  }\n",
      "error:  >\n",
      "error:  }\n",
      "error:  ]\n",
      "error:  >\n",
      "error:  >\n",
      "error:  ]\n",
      "error:  >\n",
      "error:  )\n",
      "error:  }\n",
      "error:  }\n",
      "error:  )\n",
      "error:  }\n",
      "error:  }\n",
      "error:  >\n",
      "error:  ]\n",
      "error:  )\n",
      "error:  }\n",
      "error:  >\n",
      "error:  }\n",
      "error:  }\n",
      "error:  }\n",
      "error:  )\n",
      "error:  )\n",
      "error:  >\n",
      "error:  >\n",
      "error:  >\n",
      "error:  )\n",
      "error:  }\n",
      "error:  >\n",
      "error:  >\n",
      "error:  ]\n",
      "error:  ]\n",
      "error:  ]\n",
      "error:  >\n",
      "error:  )\n",
      "error:  )\n",
      "error:  >\n",
      "error:  ]\n",
      "error:  ]\n",
      "error:  )\n",
      "error:  ]\n",
      "error:  )\n",
      "error:  )\n",
      "error:  }\n",
      "error:  ]\n"
     ]
    }
   ],
   "source": [
    "total_penalty=0\n",
    "count_error_lines=0\n",
    "\n",
    "for line in lines:\n",
    "    open_chunks=[]\n",
    "    for char in line:\n",
    "        # open a new chunk:\n",
    "        if char in [\"(\",\"[\",\"<\",\"{\"]:\n",
    "            open_chunks.append(char)            \n",
    "        # else: close the last opened chunk\n",
    "        elif len(open_chunks)>0 and char_inverter[char]==open_chunks[-1]:\n",
    "            open_chunks.pop()\n",
    "        else:\n",
    "            print(\"error: \",char)\n",
    "            total_penalty+=penalties[char]\n",
    "            count_error_lines+=1\n",
    "            break"
   ]
  },
  {
   "cell_type": "code",
   "execution_count": 29,
   "id": "worthy-cheat",
   "metadata": {},
   "outputs": [
    {
     "data": {
      "text/plain": [
       "51"
      ]
     },
     "execution_count": 29,
     "metadata": {},
     "output_type": "execute_result"
    }
   ],
   "source": [
    "count_error_lines"
   ]
  },
  {
   "cell_type": "code",
   "execution_count": 28,
   "id": "quick-yeast",
   "metadata": {},
   "outputs": [
    {
     "data": {
      "text/plain": [
       "392139"
      ]
     },
     "execution_count": 28,
     "metadata": {},
     "output_type": "execute_result"
    }
   ],
   "source": [
    "total_penalty"
   ]
  },
  {
   "cell_type": "markdown",
   "id": "nuclear-orchestra",
   "metadata": {},
   "source": [
    "Part B"
   ]
  },
  {
   "cell_type": "code",
   "execution_count": 66,
   "id": "suspected-advocate",
   "metadata": {},
   "outputs": [],
   "source": [
    "# lines=[\n",
    "#     \"[({(<(())[]>[[{[]{<()<>>\",\n",
    "#     \"[(()[<>])]({[<{<<[]>>(\",\n",
    "#     \"(((({<>}<{<{<>}{[]{[]{}\",\n",
    "#     \"{<[[]]>}<{[{[{[]{()[[[]\",\n",
    "#     \"<{([{{}}[<[[[<>{}]]]>[]]\"\n",
    "# ]"
   ]
  },
  {
   "cell_type": "code",
   "execution_count": 75,
   "id": "proprietary-intermediate",
   "metadata": {},
   "outputs": [],
   "source": [
    "all_chunks_to_close=[]\n",
    "\n",
    "for line in lines:\n",
    "    incomplete=True\n",
    "    \n",
    "    open_chunks=[]\n",
    "    for char in line:\n",
    "        # open a new chunk:\n",
    "        if char in [\"(\",\"[\",\"<\",\"{\"]:\n",
    "            open_chunks.append(char)            \n",
    "        # else: close the last opened chunk\n",
    "        elif len(open_chunks)>0 and char_inverter[char]==open_chunks[-1]:\n",
    "            open_chunks.pop()\n",
    "        else:\n",
    "            incomplete=False\n",
    "            break\n",
    "\n",
    "    if incomplete:\n",
    "        open_chunks.reverse()\n",
    "        all_chunks_to_close.append(open_chunks)"
   ]
  },
  {
   "cell_type": "code",
   "execution_count": 76,
   "id": "exciting-musical",
   "metadata": {},
   "outputs": [
    {
     "data": {
      "text/plain": [
       "[['{', '{', '(', '(', '<', '<', '[', '(', '[', '(', '(', '<', '[', '[', '['],\n",
       " ['[', '(', '[', '(', '(', '[', '<', '{', '<', '{', '<'],\n",
       " ['(', '{', '[', '{', '{', '<', '[', '(', '[', '<', '<', '[', '{', '<'],\n",
       " ['[', '[', '<', '{', '{', '<', '(', '<', '<', '[', '[']]"
      ]
     },
     "execution_count": 76,
     "metadata": {},
     "output_type": "execute_result"
    }
   ],
   "source": [
    "all_chunks_to_close[:4]"
   ]
  },
  {
   "cell_type": "code",
   "execution_count": 77,
   "id": "leading-andrews",
   "metadata": {},
   "outputs": [],
   "source": [
    "scores={ # back inverted chars\n",
    "    \"(\": 1,\n",
    "    \"[\": 2,\n",
    "    \"{\": 3,\n",
    "    \"<\": 4\n",
    "}"
   ]
  },
  {
   "cell_type": "code",
   "execution_count": 78,
   "id": "buried-oxford",
   "metadata": {},
   "outputs": [],
   "source": [
    "all_scores=[]\n",
    "\n",
    "for chunks_to_close in all_chunks_to_close:\n",
    "    cur_score=0\n",
    "    for char in chunks_to_close:\n",
    "        cur_score=(cur_score*5)+scores[char]\n",
    "    all_scores.append(cur_score)\n",
    "    "
   ]
  },
  {
   "cell_type": "code",
   "execution_count": 79,
   "id": "qualified-russia",
   "metadata": {},
   "outputs": [
    {
     "data": {
      "text/plain": [
       "[22313394937,\n",
       " 22368619,\n",
       " 2087681194,\n",
       " 25294987,\n",
       " 5315043412,\n",
       " 4035930587,\n",
       " 5292442986,\n",
       " 335442914,\n",
       " 194061416,\n",
       " 2902867937,\n",
       " 24039589,\n",
       " 5689399332,\n",
       " 353967,\n",
       " 13882146189,\n",
       " 810366559,\n",
       " 6088395572,\n",
       " 4553772964,\n",
       " 97622656,\n",
       " 16734870471,\n",
       " 4147232347,\n",
       " 3293461796,\n",
       " 9360490222,\n",
       " 227527368,\n",
       " 1189003993,\n",
       " 218460313,\n",
       " 26049515412,\n",
       " 13857171067,\n",
       " 24335467232,\n",
       " 3858709,\n",
       " 4490118081,\n",
       " 9685467,\n",
       " 3239289289,\n",
       " 17654790563,\n",
       " 374946794,\n",
       " 8250511672,\n",
       " 5220183374,\n",
       " 5212839791,\n",
       " 4001832844,\n",
       " 30006442364,\n",
       " 408202959,\n",
       " 130461791,\n",
       " 29041779537,\n",
       " 827218543,\n",
       " 15326925784,\n",
       " 21371714357,\n",
       " 7418444,\n",
       " 37086088,\n",
       " 9165462361,\n",
       " 64241849,\n",
       " 22894051247,\n",
       " 46661233]"
      ]
     },
     "execution_count": 79,
     "metadata": {},
     "output_type": "execute_result"
    }
   ],
   "source": [
    "all_scores"
   ]
  },
  {
   "cell_type": "code",
   "execution_count": 80,
   "id": "focal-laser",
   "metadata": {},
   "outputs": [
    {
     "data": {
      "text/plain": [
       "4001832844"
      ]
     },
     "execution_count": 80,
     "metadata": {},
     "output_type": "execute_result"
    }
   ],
   "source": [
    "all_scores.sort()\n",
    "all_scores[int((len(all_scores)-1)/2)]"
   ]
  },
  {
   "cell_type": "code",
   "execution_count": null,
   "id": "arranged-helping",
   "metadata": {},
   "outputs": [],
   "source": []
  }
 ],
 "metadata": {
  "kernelspec": {
   "display_name": "Python 3",
   "language": "python",
   "name": "python3"
  },
  "language_info": {
   "codemirror_mode": {
    "name": "ipython",
    "version": 3
   },
   "file_extension": ".py",
   "mimetype": "text/x-python",
   "name": "python",
   "nbconvert_exporter": "python",
   "pygments_lexer": "ipython3",
   "version": "3.7.10"
  }
 },
 "nbformat": 4,
 "nbformat_minor": 5
}
