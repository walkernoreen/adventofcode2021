{
 "cells": [
  {
   "cell_type": "markdown",
   "id": "synthetic-dressing",
   "metadata": {},
   "source": [
    "Part A"
   ]
  },
  {
   "cell_type": "code",
   "execution_count": 31,
   "id": "loved-reputation",
   "metadata": {},
   "outputs": [],
   "source": [
    "import numpy as np\n",
    "import matplotlib.pyplot as plt"
   ]
  },
  {
   "cell_type": "code",
   "execution_count": 22,
   "id": "light-shape",
   "metadata": {},
   "outputs": [],
   "source": [
    "positions=[]\n",
    "folds_instructions=[]\n",
    "initial_phase=True\n",
    "with open(\"input13.txt\",\"r\") as f:\n",
    "    for line in f.readlines():\n",
    "        if line==\"\\n\":\n",
    "            initial_phase=False\n",
    "            \n",
    "        if initial_phase:\n",
    "            positions.append(line)\n",
    "        else:\n",
    "            folds_instructions.append(line)\n",
    "        "
   ]
  },
  {
   "cell_type": "code",
   "execution_count": 23,
   "id": "informative-gross",
   "metadata": {},
   "outputs": [],
   "source": [
    "positions=[p.strip(\"\\n\").split(\",\") for p in positions]\n",
    "xpositions=[int(p[0]) for p in positions]\n",
    "ypositions=[int(p[1]) for p in positions]"
   ]
  },
  {
   "cell_type": "code",
   "execution_count": 26,
   "id": "known-memphis",
   "metadata": {},
   "outputs": [],
   "source": [
    "folds=[]\n",
    "for instruction in folds_instructions:\n",
    "    if instruction==\"\\n\":\n",
    "        continue\n",
    "    instruction=instruction.replace(\"fold along \",\"\")\n",
    "    instruction=instruction.strip(\"\\n\")\n",
    "    axis, pos=instruction.split(\"=\")\n",
    "    folds.append([axis, int(pos)])"
   ]
  },
  {
   "cell_type": "code",
   "execution_count": 28,
   "id": "religious-separation",
   "metadata": {},
   "outputs": [
    {
     "name": "stdout",
     "output_type": "stream",
     "text": [
      "1311 892\n"
     ]
    }
   ],
   "source": [
    "# matrix with all initial dots\n",
    "ncols=max(xpositions)+1\n",
    "nrows=max(ypositions)+1\n",
    "print(ncols, nrows)"
   ]
  },
  {
   "cell_type": "code",
   "execution_count": 32,
   "id": "recent-reduction",
   "metadata": {},
   "outputs": [],
   "source": [
    "orig_mat=np.zeros((nrows,ncols),dtype=np.bool)\n",
    "orig_mat[ypositions,xpositions]=True"
   ]
  },
  {
   "cell_type": "code",
   "execution_count": 33,
   "id": "terminal-crime",
   "metadata": {},
   "outputs": [
    {
     "data": {
      "text/plain": [
       "<matplotlib.image.AxesImage at 0x280b568f748>"
      ]
     },
     "execution_count": 33,
     "metadata": {},
     "output_type": "execute_result"
    },
    {
     "data": {
      "image/png": "[encoded data removed]",
      "text/plain": [
       "<Figure size 432x288 with 1 Axes>"
      ]
     },
     "metadata": {
      "needs_background": "light"
     },
     "output_type": "display_data"
    }
   ],
   "source": [
    "plt.imshow(orig_mat)"
   ]
  },
  {
   "cell_type": "code",
   "execution_count": 35,
   "id": "assured-liquid",
   "metadata": {},
   "outputs": [
    {
     "data": {
      "text/plain": [
       "['x', 655]"
      ]
     },
     "execution_count": 35,
     "metadata": {},
     "output_type": "execute_result"
    }
   ],
   "source": [
    "# first fold\n",
    "folds[0]"
   ]
  },
  {
   "cell_type": "code",
   "execution_count": 79,
   "id": "blank-jersey",
   "metadata": {},
   "outputs": [],
   "source": [
    "#ACTUALLY: The folding line is removed from the matrix. see do_one_fold() below for updated code"
   ]
  },
  {
   "cell_type": "code",
   "execution_count": 52,
   "id": "civil-sheep",
   "metadata": {},
   "outputs": [],
   "source": [
    "fixed_mat=orig_mat[:,:folds[0][1]+1].copy()\n",
    "moving_mat=orig_mat[:,folds[0][1]+1:].copy()"
   ]
  },
  {
   "cell_type": "code",
   "execution_count": 56,
   "id": "shaped-sessions",
   "metadata": {},
   "outputs": [],
   "source": [
    "flipped_moving_mat=moving_mat[:,::-1]"
   ]
  },
  {
   "cell_type": "code",
   "execution_count": 78,
   "id": "afraid-theorem",
   "metadata": {},
   "outputs": [],
   "source": [
    "# add the moving mat to the fixed part\n",
    "start_col=fixed_mat.shape[1]-moving_mat.shape[1]-1 # the folding edge is covered only once\n",
    "\n",
    "output_mat=fixed_mat.copy()\n",
    "output_mat[:,start_col:fixed_mat.shape[1]-1]+=flipped_moving_mat\n",
    "\n"
   ]
  },
  {
   "cell_type": "code",
   "execution_count": 61,
   "id": "activated-meter",
   "metadata": {},
   "outputs": [
    {
     "data": {
      "text/plain": [
       "<matplotlib.image.AxesImage at 0x280b5e40148>"
      ]
     },
     "execution_count": 61,
     "metadata": {},
     "output_type": "execute_result"
    },
    {
     "data": {
      "image/png": "[encoded data removed]",
      "text/plain": [
       "<Figure size 432x288 with 1 Axes>"
      ]
     },
     "metadata": {
      "needs_background": "light"
     },
     "output_type": "display_data"
    }
   ],
   "source": [
    "plt.imshow(output_mat)"
   ]
  },
  {
   "cell_type": "code",
   "execution_count": 62,
   "id": "southwest-sensitivity",
   "metadata": {},
   "outputs": [
    {
     "data": {
      "text/plain": [
       "693"
      ]
     },
     "execution_count": 62,
     "metadata": {},
     "output_type": "execute_result"
    }
   ],
   "source": [
    "np.sum(output_mat)"
   ]
  },
  {
   "cell_type": "markdown",
   "id": "statutory-cabinet",
   "metadata": {},
   "source": [
    "Part B"
   ]
  },
  {
   "cell_type": "code",
   "execution_count": 84,
   "id": "static-astrology",
   "metadata": {},
   "outputs": [],
   "source": [
    "def do_one_fold(input_mat, axis, position):\n",
    "    \"\"\"axis: \"x\" or \"y\", position: integer (folding axis)\"\"\"    \n",
    "    if axis==\"x\":\n",
    "        fixed_mat=input_mat[:,:position].copy() # excluding the folding line\n",
    "        moving_mat=input_mat[:,position+1:].copy()\n",
    "        \n",
    "        flipped_moving_mat=moving_mat[:,::-1]\n",
    "        \n",
    "        # add the moving mat to the fixed part\n",
    "        start_col=fixed_mat.shape[1]-moving_mat.shape[1]\n",
    "        output_mat=fixed_mat.copy()\n",
    "        output_mat[:,start_col:fixed_mat.shape[1]]+=flipped_moving_mat\n",
    "    else:\n",
    "        fixed_mat=input_mat[:position,:].copy()\n",
    "        moving_mat=input_mat[position+1:,:].copy()\n",
    "        \n",
    "        flipped_moving_mat=moving_mat[::-1,:]\n",
    "        \n",
    "        # add the moving mat to the fixed part\n",
    "        start_row=fixed_mat.shape[0]-moving_mat.shape[0]\n",
    "        output_mat=fixed_mat.copy()\n",
    "        output_mat[start_row:fixed_mat.shape[0],:]+=flipped_moving_mat\n",
    "        \n",
    "    return output_mat\n"
   ]
  },
  {
   "cell_type": "code",
   "execution_count": 85,
   "id": "married-cedar",
   "metadata": {},
   "outputs": [
    {
     "name": "stdout",
     "output_type": "stream",
     "text": [
      "0 ['x', 655] \n",
      "input shape: (892, 1311)\n",
      "output shape: (892, 655) \n",
      "\n",
      "1 ['y', 447] \n",
      "input shape: (892, 655)\n",
      "output shape: (447, 655) \n",
      "\n",
      "2 ['x', 327] \n",
      "input shape: (447, 655)\n",
      "output shape: (447, 327) \n",
      "\n",
      "3 ['y', 223] \n",
      "input shape: (447, 327)\n",
      "output shape: (223, 327) \n",
      "\n",
      "4 ['x', 163] \n",
      "input shape: (223, 327)\n",
      "output shape: (223, 163) \n",
      "\n",
      "5 ['y', 111] \n",
      "input shape: (223, 163)\n",
      "output shape: (111, 163) \n",
      "\n",
      "6 ['x', 81] \n",
      "input shape: (111, 163)\n",
      "output shape: (111, 81) \n",
      "\n",
      "7 ['y', 55] \n",
      "input shape: (111, 81)\n",
      "output shape: (55, 81) \n",
      "\n",
      "8 ['x', 40] \n",
      "input shape: (55, 81)\n",
      "output shape: (55, 40) \n",
      "\n",
      "9 ['y', 27] \n",
      "input shape: (55, 40)\n",
      "output shape: (27, 40) \n",
      "\n",
      "10 ['y', 13] \n",
      "input shape: (27, 40)\n",
      "output shape: (13, 40) \n",
      "\n",
      "11 ['y', 6] \n",
      "input shape: (13, 40)\n",
      "output shape: (6, 40) \n",
      "\n"
     ]
    }
   ],
   "source": [
    "mat=orig_mat.copy()\n",
    "\n",
    "for idx,fold in enumerate(folds):\n",
    "    print(idx, fold, \"\\ninput shape:\",mat.shape)\n",
    "    mat=do_one_fold(mat,fold[0],fold[1])\n",
    "    print(\"output shape:\",mat.shape,\"\\n\")\n"
   ]
  },
  {
   "cell_type": "code",
   "execution_count": 82,
   "id": "exempt-korea",
   "metadata": {},
   "outputs": [
    {
     "data": {
      "text/plain": [
       "95"
      ]
     },
     "execution_count": 82,
     "metadata": {},
     "output_type": "execute_result"
    }
   ],
   "source": [
    "np.sum(mat)"
   ]
  },
  {
   "cell_type": "code",
   "execution_count": 83,
   "id": "recreational-extreme",
   "metadata": {},
   "outputs": [
    {
     "data": {
      "text/plain": [
       "<matplotlib.image.AxesImage at 0x280b587a648>"
      ]
     },
     "execution_count": 83,
     "metadata": {},
     "output_type": "execute_result"
    },
    {
     "data": {
      "image/png": "[encoded data removed]",
      "text/plain": [
       "<Figure size 432x288 with 1 Axes>"
      ]
     },
     "metadata": {
      "needs_background": "light"
     },
     "output_type": "display_data"
    }
   ],
   "source": [
    "plt.imshow(mat)"
   ]
  },
  {
   "cell_type": "code",
   "execution_count": null,
   "id": "composite-renaissance",
   "metadata": {},
   "outputs": [],
   "source": []
  }
 ],
 "metadata": {
  "kernelspec": {
   "display_name": "Python 3",
   "language": "python",
   "name": "python3"
  },
  "language_info": {
   "codemirror_mode": {
    "name": "ipython",
    "version": 3
   },
   "file_extension": ".py",
   "mimetype": "text/x-python",
   "name": "python",
   "nbconvert_exporter": "python",
   "pygments_lexer": "ipython3",
   "version": "3.7.10"
  }
 },
 "nbformat": 4,
 "nbformat_minor": 5
}
