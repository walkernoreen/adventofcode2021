{
 "cells": [
  {
   "cell_type": "markdown",
   "id": "national-minority",
   "metadata": {},
   "source": [
    "Part A"
   ]
  },
  {
   "cell_type": "code",
   "execution_count": 2,
   "id": "metallic-fever",
   "metadata": {},
   "outputs": [],
   "source": [
    "fn=\"input08.txt\""
   ]
  },
  {
   "cell_type": "code",
   "execution_count": 39,
   "id": "certain-affect",
   "metadata": {},
   "outputs": [],
   "source": [
    "all_ref_digits=[]\n",
    "all_test_digits=[]\n",
    "\n",
    "with open(fn,\"r\") as f:\n",
    "    for line in f:\n",
    "        line=line.strip(\"\\n\")\n",
    "        ref_digits, test_digits = line.split(\"|\")\n",
    "        ref_digits=ref_digits.split(\" \")\n",
    "        ref_digits=[\"\".join(sorted(item)) for item in ref_digits if item!=\"\"]\n",
    "        \n",
    "        test_digits=test_digits.strip(\" \").split(\" \")\n",
    "        test_digits=[\"\".join(sorted(item)) for item in test_digits if item!=\"\"]\n",
    "        \n",
    "        all_ref_digits.append(ref_digits)\n",
    "        all_test_digits.append(test_digits)"
   ]
  },
  {
   "cell_type": "code",
   "execution_count": 40,
   "id": "statewide-experiment",
   "metadata": {},
   "outputs": [
    {
     "name": "stdout",
     "output_type": "stream",
     "text": [
      "['abcdef', 'ceg', 'cg', 'bcefg', 'abcdeg', 'abcef', 'acfg', 'abcefg', 'abcdefg', 'bdefg']\n",
      "['acfg', 'abcdeg', 'abcdefg', 'abcdefg']\n"
     ]
    }
   ],
   "source": [
    "print(all_ref_digits[0])\n",
    "print(all_test_digits[0])"
   ]
  },
  {
   "cell_type": "code",
   "execution_count": 28,
   "id": "cardiovascular-stopping",
   "metadata": {},
   "outputs": [],
   "source": [
    "# 1: 2 letters\n",
    "# 4: 4 letters\n",
    "# 7: 3 letters\n",
    "# 8: 7 letters"
   ]
  },
  {
   "cell_type": "code",
   "execution_count": 29,
   "id": "consolidated-perfume",
   "metadata": {},
   "outputs": [],
   "source": [
    "counter=0\n",
    "\n",
    "for test_digits in all_test_digits:\n",
    "    for item in test_digits:\n",
    "        if len(item) in [2,4,3,7]:\n",
    "            counter+=1"
   ]
  },
  {
   "cell_type": "code",
   "execution_count": 30,
   "id": "quiet-crawford",
   "metadata": {},
   "outputs": [
    {
     "data": {
      "text/plain": [
       "294"
      ]
     },
     "execution_count": 30,
     "metadata": {},
     "output_type": "execute_result"
    }
   ],
   "source": [
    "counter"
   ]
  },
  {
   "cell_type": "markdown",
   "id": "external-mongolia",
   "metadata": {},
   "source": [
    "Part B"
   ]
  },
  {
   "cell_type": "code",
   "execution_count": 51,
   "id": "present-bernard",
   "metadata": {},
   "outputs": [],
   "source": [
    "def is_subset(sample, reference):\n",
    "    for char in sample:\n",
    "        if char not in reference:\n",
    "            return False\n",
    "    return True"
   ]
  },
  {
   "cell_type": "markdown",
   "id": "accurate-contamination",
   "metadata": {},
   "source": [
    "```\n",
    "   0     1    2   3    4    5     6    7     8    9                           \n",
    "   _         _    _         _     _    _     _    _                                    \n",
    "  | |    |   _|   _|  |_|  |_    |_     |   |_|  |_|          \n",
    "  |_|    |  |_    _|    |   _|   |_|    |   |_|   _|                                         \n",
    "```"
   ]
  },
  {
   "cell_type": "code",
   "execution_count": 53,
   "id": "african-tulsa",
   "metadata": {},
   "outputs": [
    {
     "name": "stdout",
     "output_type": "stream",
     "text": [
      "['abcdef', 'ceg', 'cg', 'bcefg', 'abcdeg', 'abcef', 'acfg', 'abcefg', 'abcdefg', 'bdefg']\n"
     ]
    }
   ],
   "source": [
    "ref=all_ref_digits[0].copy()\n",
    "print(ref)"
   ]
  },
  {
   "cell_type": "code",
   "execution_count": 54,
   "id": "parallel-evolution",
   "metadata": {},
   "outputs": [],
   "source": [
    "# known digits by text length: 1,4,7,8  \n",
    "# 3 is the text which has 5 chars and in which the chars of 1 are all contained\n",
    "# 9 is the text which has 6 chars and in which the chars of 3 are all contained\n",
    "# 0 : 6 chars, and contains 7\n",
    "# 6: 6 chars (the only remaining one)\n",
    "# 5: 5 chars, contained in 9\n",
    "# 2: the last"
   ]
  },
  {
   "cell_type": "code",
   "execution_count": 55,
   "id": "complimentary-mounting",
   "metadata": {},
   "outputs": [],
   "source": [
    "numbers={}"
   ]
  },
  {
   "cell_type": "code",
   "execution_count": 56,
   "id": "indie-minnesota",
   "metadata": {},
   "outputs": [
    {
     "data": {
      "text/plain": [
       "['abcdef', 'bcefg', 'abcdeg', 'abcef', 'abcefg', 'bdefg']"
      ]
     },
     "execution_count": 56,
     "metadata": {},
     "output_type": "execute_result"
    }
   ],
   "source": [
    "# find digits with unique text length: 1,4,7,8\n",
    "for item in ref:\n",
    "    if len(item)==2:\n",
    "        numbers[1]=item\n",
    "    if len(item)==3:\n",
    "        numbers[7]=item\n",
    "    if len(item)==4:\n",
    "        numbers[4]=item\n",
    "    if len(item)==7:\n",
    "        numbers[8]=item\n",
    "        \n",
    "ref.remove(numbers[1])\n",
    "ref.remove(numbers[4])\n",
    "ref.remove(numbers[7])\n",
    "ref.remove(numbers[8])\n",
    "ref"
   ]
  },
  {
   "cell_type": "code",
   "execution_count": 57,
   "id": "damaged-punishment",
   "metadata": {},
   "outputs": [
    {
     "data": {
      "text/plain": [
       "['abcdef', 'abcdeg', 'abcef', 'abcefg', 'bdefg']"
      ]
     },
     "execution_count": 57,
     "metadata": {},
     "output_type": "execute_result"
    }
   ],
   "source": [
    "# 3\n",
    "for item in ref:\n",
    "    if len(item)==5 and is_subset(numbers[1], item):\n",
    "        numbers[3]=item\n",
    "        break\n",
    "ref.remove(item)\n",
    "ref"
   ]
  },
  {
   "cell_type": "code",
   "execution_count": 58,
   "id": "devoted-cosmetic",
   "metadata": {},
   "outputs": [
    {
     "data": {
      "text/plain": [
       "['abcdef', 'abcdeg', 'abcef', 'bdefg']"
      ]
     },
     "execution_count": 58,
     "metadata": {},
     "output_type": "execute_result"
    }
   ],
   "source": [
    "# 9\n",
    "for item in ref:\n",
    "    if len(item)==6 and is_subset(numbers[3], item):\n",
    "        numbers[9]=item\n",
    "        break\n",
    "ref.remove(item)\n",
    "ref"
   ]
  },
  {
   "cell_type": "code",
   "execution_count": 60,
   "id": "healthy-persian",
   "metadata": {},
   "outputs": [
    {
     "data": {
      "text/plain": [
       "['abcdef', 'abcef', 'bdefg']"
      ]
     },
     "execution_count": 60,
     "metadata": {},
     "output_type": "execute_result"
    }
   ],
   "source": [
    "# 0\n",
    "for item in ref:\n",
    "    if len(item)==6 and is_subset(numbers[7], item):\n",
    "        numbers[0]=item\n",
    "        break\n",
    "ref.remove(item)\n",
    "ref"
   ]
  },
  {
   "cell_type": "code",
   "execution_count": 61,
   "id": "working-international",
   "metadata": {},
   "outputs": [
    {
     "data": {
      "text/plain": [
       "['abcef', 'bdefg']"
      ]
     },
     "execution_count": 61,
     "metadata": {},
     "output_type": "execute_result"
    }
   ],
   "source": [
    "# 6\n",
    "for item in ref:\n",
    "    if len(item)==6:\n",
    "        numbers[6]=item\n",
    "        break\n",
    "ref.remove(item)\n",
    "ref"
   ]
  },
  {
   "cell_type": "code",
   "execution_count": 62,
   "id": "continental-closure",
   "metadata": {},
   "outputs": [
    {
     "data": {
      "text/plain": [
       "['bdefg']"
      ]
     },
     "execution_count": 62,
     "metadata": {},
     "output_type": "execute_result"
    }
   ],
   "source": [
    "# 5\n",
    "for item in ref:\n",
    "    if len(item)==5 and is_subset(item, numbers[9]):\n",
    "        numbers[5]=item\n",
    "        break\n",
    "ref.remove(item)\n",
    "ref"
   ]
  },
  {
   "cell_type": "code",
   "execution_count": 63,
   "id": "homeless-award",
   "metadata": {},
   "outputs": [],
   "source": [
    "numbers[2]=ref[0]"
   ]
  },
  {
   "cell_type": "code",
   "execution_count": 64,
   "id": "roman-leonard",
   "metadata": {},
   "outputs": [
    {
     "data": {
      "text/plain": [
       "{7: 'ceg',\n",
       " 1: 'cg',\n",
       " 4: 'acfg',\n",
       " 8: 'abcdefg',\n",
       " 3: 'bcefg',\n",
       " 9: 'abcefg',\n",
       " 0: 'abcdeg',\n",
       " 6: 'abcdef',\n",
       " 5: 'abcef',\n",
       " 2: 'bdefg'}"
      ]
     },
     "execution_count": 64,
     "metadata": {},
     "output_type": "execute_result"
    }
   ],
   "source": [
    "numbers"
   ]
  },
  {
   "cell_type": "markdown",
   "id": "organized-tournament",
   "metadata": {},
   "source": [
    "And now neatly as function"
   ]
  },
  {
   "cell_type": "code",
   "execution_count": 67,
   "id": "intelligent-brother",
   "metadata": {},
   "outputs": [],
   "source": [
    "def encoding_to_numbers(ref_digits):\n",
    "    \"\"\"ref_digits: one list of 10 text-to-digit encodings\n",
    "    \"\"\"\n",
    "    ref=ref_digits.copy()\n",
    "    \n",
    "    numbers={}\n",
    "    \n",
    "    # find digits with unique text length: 1,4,7,8\n",
    "    for item in ref:\n",
    "        if len(item)==2:\n",
    "            numbers[1]=item\n",
    "        if len(item)==3:\n",
    "            numbers[7]=item\n",
    "        if len(item)==4:\n",
    "            numbers[4]=item\n",
    "        if len(item)==7:\n",
    "            numbers[8]=item\n",
    "\n",
    "    ref.remove(numbers[1])\n",
    "    ref.remove(numbers[4])\n",
    "    ref.remove(numbers[7])\n",
    "    ref.remove(numbers[8])\n",
    "\n",
    "    # 3\n",
    "    for item in ref:\n",
    "        if len(item)==5 and is_subset(numbers[1], item):\n",
    "            numbers[3]=item\n",
    "            break\n",
    "    ref.remove(item)\n",
    "\n",
    "    # 9\n",
    "    for item in ref:\n",
    "        if len(item)==6 and is_subset(numbers[3], item):\n",
    "            numbers[9]=item\n",
    "            break\n",
    "    ref.remove(item)\n",
    "    \n",
    "    # 0\n",
    "    for item in ref:\n",
    "        if len(item)==6 and is_subset(numbers[7], item):\n",
    "            numbers[0]=item\n",
    "            break\n",
    "    ref.remove(item)\n",
    "    \n",
    "    # 6\n",
    "    for item in ref:\n",
    "        if len(item)==6:\n",
    "            numbers[6]=item\n",
    "            break\n",
    "    ref.remove(item)\n",
    "    \n",
    "    # 5\n",
    "    for item in ref:\n",
    "        if len(item)==5 and is_subset(item, numbers[9]):\n",
    "            numbers[5]=item\n",
    "            break\n",
    "    ref.remove(item)\n",
    "    \n",
    "    numbers[2]=ref[0]\n",
    "    \n",
    "    return numbers"
   ]
  },
  {
   "cell_type": "code",
   "execution_count": 68,
   "id": "magnetic-press",
   "metadata": {},
   "outputs": [
    {
     "data": {
      "text/plain": [
       "{7: 'ceg',\n",
       " 1: 'cg',\n",
       " 4: 'acfg',\n",
       " 8: 'abcdefg',\n",
       " 3: 'bcefg',\n",
       " 9: 'abcefg',\n",
       " 0: 'abcdeg',\n",
       " 6: 'abcdef',\n",
       " 5: 'abcef',\n",
       " 2: 'bdefg'}"
      ]
     },
     "execution_count": 68,
     "metadata": {},
     "output_type": "execute_result"
    }
   ],
   "source": [
    "encoding_to_numbers(all_ref_digits[0])"
   ]
  },
  {
   "cell_type": "code",
   "execution_count": 75,
   "id": "lovely-lloyd",
   "metadata": {},
   "outputs": [
    {
     "data": {
      "text/plain": [
       "4088"
      ]
     },
     "execution_count": 75,
     "metadata": {},
     "output_type": "execute_result"
    }
   ],
   "source": [
    "def decode(test_digits):\n",
    "    number=\"\"\n",
    "    for item in test_digits:        \n",
    "        for key,val in numbers.items():\n",
    "            if val==item:\n",
    "                number+=str(key)\n",
    "    number=int(number)\n",
    "    return number\n",
    "\n",
    "decode(all_test_digits[0])"
   ]
  },
  {
   "cell_type": "code",
   "execution_count": 77,
   "id": "drawn-jewelry",
   "metadata": {},
   "outputs": [],
   "source": [
    "decoded_numbers=[]\n",
    "for ref_digits, test_digits in zip(all_ref_digits, all_test_digits):\n",
    "    numbers=encoding_to_numbers(ref_digits)\n",
    "    decoded_numbers.append(decode(test_digits))"
   ]
  },
  {
   "cell_type": "code",
   "execution_count": 79,
   "id": "deadly-robinson",
   "metadata": {},
   "outputs": [
    {
     "data": {
      "text/plain": [
       "973292"
      ]
     },
     "execution_count": 79,
     "metadata": {},
     "output_type": "execute_result"
    }
   ],
   "source": [
    "sum(decoded_numbers)"
   ]
  },
  {
   "cell_type": "code",
   "execution_count": null,
   "id": "mediterranean-funds",
   "metadata": {},
   "outputs": [],
   "source": []
  }
 ],
 "metadata": {
  "kernelspec": {
   "display_name": "Python 3",
   "language": "python",
   "name": "python3"
  },
  "language_info": {
   "codemirror_mode": {
    "name": "ipython",
    "version": 3
   },
   "file_extension": ".py",
   "mimetype": "text/x-python",
   "name": "python",
   "nbconvert_exporter": "python",
   "pygments_lexer": "ipython3",
   "version": "3.7.10"
  }
 },
 "nbformat": 4,
 "nbformat_minor": 5
}
