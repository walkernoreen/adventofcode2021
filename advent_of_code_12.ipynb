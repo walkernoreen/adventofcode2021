{
 "cells": [
  {
   "cell_type": "markdown",
   "id": "monthly-mainstream",
   "metadata": {},
   "source": [
    "Part A"
   ]
  },
  {
   "cell_type": "code",
   "execution_count": 1,
   "id": "bridal-chuck",
   "metadata": {},
   "outputs": [],
   "source": [
    "with open(\"input12.txt\",\"r\") as f:\n",
    "    lines=f.readlines()\n",
    "    \n",
    "lines=[line.strip(\"\\n\") for line in lines]"
   ]
  },
  {
   "cell_type": "code",
   "execution_count": 2,
   "id": "younger-marking",
   "metadata": {},
   "outputs": [
    {
     "data": {
      "text/plain": [
       "[['qi', 'UD'],\n",
       " ['jt', 'br'],\n",
       " ['wb', 'TF'],\n",
       " ['VO', 'aa'],\n",
       " ['UD', 'aa'],\n",
       " ['br', 'end'],\n",
       " ['end', 'HA'],\n",
       " ['qi', 'br'],\n",
       " ['br', 'HA'],\n",
       " ['UD', 'start']]"
      ]
     },
     "execution_count": 2,
     "metadata": {},
     "output_type": "execute_result"
    }
   ],
   "source": [
    "lines=[line.split(\"-\") for line in lines]\n",
    "lines[:10]"
   ]
  },
  {
   "cell_type": "code",
   "execution_count": 3,
   "id": "protected-battlefield",
   "metadata": {},
   "outputs": [],
   "source": [
    "# create dict where each cave is a key and each value is a list of caves it connects to\n",
    "connections={}\n",
    "for line in lines:\n",
    "    caveA, caveB=line\n",
    "    # forward\n",
    "    if caveA in connections:\n",
    "        connections[caveA].append(caveB)\n",
    "    else:\n",
    "        connections[caveA]=[caveB]\n",
    "    # backward    \n",
    "    if caveB in connections:\n",
    "        connections[caveB].append(caveA)\n",
    "    else:\n",
    "        connections[caveB]=[caveA]"
   ]
  },
  {
   "cell_type": "code",
   "execution_count": 4,
   "id": "express-richmond",
   "metadata": {},
   "outputs": [
    {
     "data": {
      "text/plain": [
       "{'qi': ['UD', 'br', 'TF', 'start', 'VO'],\n",
       " 'UD': ['qi', 'aa', 'start', 'hf', 'wb'],\n",
       " 'jt': ['br'],\n",
       " 'br': ['jt', 'end', 'qi', 'HA', 'hf', 'TF'],\n",
       " 'wb': ['TF', 'aa', 'UD', 'KX'],\n",
       " 'TF': ['wb', 'qi', 'hf', 'br'],\n",
       " 'VO': ['aa', 'hf', 'start', 'qi'],\n",
       " 'aa': ['VO', 'UD', 'end', 'hf', 'wb'],\n",
       " 'end': ['br', 'HA', 'aa'],\n",
       " 'HA': ['end', 'br', 'hf'],\n",
       " 'start': ['UD', 'qi', 'VO'],\n",
       " 'hf': ['br', 'VO', 'HA', 'UD', 'aa', 'TF'],\n",
       " 'KX': ['wb']}"
      ]
     },
     "execution_count": 4,
     "metadata": {},
     "output_type": "execute_result"
    }
   ],
   "source": [
    "connections"
   ]
  },
  {
   "cell_type": "code",
   "execution_count": 21,
   "id": "reliable-valuation",
   "metadata": {},
   "outputs": [],
   "source": [
    "def grow_path(path, counter):\n",
    "    \"\"\"Grows path by one cave recursivley\"\"\"\n",
    "\n",
    "    last_cave=path[-1]\n",
    "\n",
    "    for next_cave in connections[last_cave]:\n",
    "        #print(\"next_cave:\", next_cave)\n",
    "        # path finished\n",
    "        if next_cave==\"end\":\n",
    "            #print(\"Finished path. Total counter:\", counter)\n",
    "            counter+=1\n",
    "            continue\n",
    "\n",
    "        # did we double visit a small cave in this path?\n",
    "        is_forbidden_path=False\n",
    "        if (next_cave.islower()):\n",
    "            is_forbidden_path=(next_cave in path)\n",
    "\n",
    "        # an unfinished but still valid path\n",
    "        if not is_forbidden_path:\n",
    "            new_path=path.copy()\n",
    "            new_path.append(next_cave)\n",
    "            #print(\"valid unfinished path:\",new_path)\n",
    "            counter=grow_path(new_path, counter)\n",
    "        else:\n",
    "            #print(\"path was invalid:\", path, \"next:\",next_cave)\n",
    "            pass\n",
    "            \n",
    "    return counter\n",
    "\n",
    "\n",
    "\n",
    "path=[\"start\"]\n",
    "path_counter=0\n",
    "path_counter=grow_path(path, path_counter)\n"
   ]
  },
  {
   "cell_type": "code",
   "execution_count": 11,
   "id": "developmental-bread",
   "metadata": {},
   "outputs": [
    {
     "data": {
      "text/plain": [
       "3856"
      ]
     },
     "execution_count": 11,
     "metadata": {},
     "output_type": "execute_result"
    }
   ],
   "source": [
    "path_counter"
   ]
  },
  {
   "cell_type": "markdown",
   "id": "sought-glass",
   "metadata": {},
   "source": [
    "Part B"
   ]
  },
  {
   "cell_type": "code",
   "execution_count": 16,
   "id": "boring-convertible",
   "metadata": {},
   "outputs": [],
   "source": [
    "def grow_path_with_double_visit(path, counter, double_visited):\n",
    "    \"\"\"Grows path by one cave recursivley\"\"\"\n",
    "\n",
    "    last_cave=path[-1]\n",
    "\n",
    "    for next_cave in connections[last_cave]:\n",
    "        #print(\"next_cave:\", next_cave)\n",
    "        # path finished\n",
    "        if next_cave==\"end\":\n",
    "            #print(\"Finished path. Total counter:\", counter)\n",
    "            counter+=1\n",
    "            continue\n",
    "\n",
    "        # did we double visit a small cave in this path?\n",
    "        is_forbidden_path=False\n",
    "        new_double_visited=double_visited\n",
    "        if next_cave==\"start\":\n",
    "            is_forbidden_path=True\n",
    "        elif (next_cave.islower()):\n",
    "            is_contained=(next_cave in path)\n",
    "            if is_contained and double_visited:\n",
    "                is_forbidden_path=True\n",
    "            if is_contained and not double_visited:\n",
    "                new_double_visited=True\n",
    "\n",
    "        # an unfinished but still valid path\n",
    "        if not is_forbidden_path:\n",
    "            new_path=path.copy()\n",
    "            new_path.append(next_cave)\n",
    "            #print(\"valid unfinished path:\",new_path)\n",
    "            counter=grow_path_with_double_visit(new_path, counter, new_double_visited)\n",
    "        else:\n",
    "            #print(\"path was invalid:\", path, \"next:\",next_cave)\n",
    "            pass\n",
    "            \n",
    "    return counter\n",
    "\n",
    "\n",
    "path=[\"start\"]\n",
    "path_counter=0\n",
    "small_cave_is_double_visited=False\n",
    "\n",
    "path_counter=grow_path_with_double_visit(path, path_counter, small_cave_is_double_visited)\n"
   ]
  },
  {
   "cell_type": "code",
   "execution_count": 17,
   "id": "vital-glossary",
   "metadata": {},
   "outputs": [
    {
     "data": {
      "text/plain": [
       "116692"
      ]
     },
     "execution_count": 17,
     "metadata": {},
     "output_type": "execute_result"
    }
   ],
   "source": [
    "path_counter"
   ]
  },
  {
   "cell_type": "code",
   "execution_count": null,
   "id": "honey-residence",
   "metadata": {},
   "outputs": [],
   "source": []
  }
 ],
 "metadata": {
  "kernelspec": {
   "display_name": "Python 3",
   "language": "python",
   "name": "python3"
  },
  "language_info": {
   "codemirror_mode": {
    "name": "ipython",
    "version": 3
   },
   "file_extension": ".py",
   "mimetype": "text/x-python",
   "name": "python",
   "nbconvert_exporter": "python",
   "pygments_lexer": "ipython3",
   "version": "3.7.10"
  }
 },
 "nbformat": 4,
 "nbformat_minor": 5
}
