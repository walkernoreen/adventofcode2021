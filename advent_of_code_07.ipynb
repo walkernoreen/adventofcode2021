{
 "cells": [
  {
   "cell_type": "markdown",
   "id": "national-minority",
   "metadata": {},
   "source": [
    "Part A"
   ]
  },
  {
   "cell_type": "code",
   "execution_count": 1,
   "id": "average-climb",
   "metadata": {},
   "outputs": [],
   "source": [
    "import numpy as np"
   ]
  },
  {
   "cell_type": "code",
   "execution_count": 2,
   "id": "straight-grenada",
   "metadata": {},
   "outputs": [],
   "source": [
    "positions=np.loadtxt(\"input07.txt\",delimiter=\",\",dtype=np.int)"
   ]
  },
  {
   "cell_type": "code",
   "execution_count": 3,
   "id": "signed-acoustic",
   "metadata": {},
   "outputs": [
    {
     "data": {
      "text/plain": [
       "array([1101,    1,   29,   67, 1102,    0,    1,   65, 1008,   65])"
      ]
     },
     "execution_count": 3,
     "metadata": {},
     "output_type": "execute_result"
    }
   ],
   "source": [
    "positions[:10]"
   ]
  },
  {
   "cell_type": "code",
   "execution_count": 11,
   "id": "previous-america",
   "metadata": {},
   "outputs": [
    {
     "data": {
      "text/plain": [
       "1000"
      ]
     },
     "execution_count": 11,
     "metadata": {},
     "output_type": "execute_result"
    }
   ],
   "source": [
    "len(positions)"
   ]
  },
  {
   "cell_type": "code",
   "execution_count": 4,
   "id": "female-pavilion",
   "metadata": {},
   "outputs": [],
   "source": [
    "minpos=np.min(positions)\n",
    "maxpos=np.max(positions)"
   ]
  },
  {
   "cell_type": "code",
   "execution_count": 5,
   "id": "opened-cycle",
   "metadata": {},
   "outputs": [],
   "source": [
    "best_pos=minpos\n",
    "cost=np.inf\n",
    "all_costs=[]\n",
    "\n",
    "for cur_pos in range(minpos,maxpos+1):\n",
    "    cur_cost=np.sum(np.abs(positions-cur_pos))\n",
    "    if cur_cost<cost:\n",
    "        best_pos=cur_pos\n",
    "        cost=cur_cost\n",
    "    all_costs.append(cur_cost)\n",
    "                    "
   ]
  },
  {
   "cell_type": "code",
   "execution_count": 6,
   "id": "diverse-luxury",
   "metadata": {},
   "outputs": [],
   "source": [
    "import matplotlib.pyplot as plt"
   ]
  },
  {
   "cell_type": "code",
   "execution_count": 7,
   "id": "secret-findings",
   "metadata": {},
   "outputs": [
    {
     "data": {
      "text/plain": [
       "[<matplotlib.lines.Line2D at 0x245270774c8>]"
      ]
     },
     "execution_count": 7,
     "metadata": {},
     "output_type": "execute_result"
    },
    {
     "data": {
      "image/png": "[encoded data removed]",
      "text/plain": [
       "<Figure size 432x288 with 1 Axes>"
      ]
     },
     "metadata": {
      "needs_background": "light"
     },
     "output_type": "display_data"
    }
   ],
   "source": [
    "plt.plot(all_costs)"
   ]
  },
  {
   "cell_type": "code",
   "execution_count": 8,
   "id": "quick-branch",
   "metadata": {},
   "outputs": [
    {
     "data": {
      "text/plain": [
       "341"
      ]
     },
     "execution_count": 8,
     "metadata": {},
     "output_type": "execute_result"
    }
   ],
   "source": [
    "best_pos"
   ]
  },
  {
   "cell_type": "code",
   "execution_count": 14,
   "id": "vulnerable-aspect",
   "metadata": {},
   "outputs": [
    {
     "data": {
      "text/plain": [
       "344605"
      ]
     },
     "execution_count": 14,
     "metadata": {},
     "output_type": "execute_result"
    }
   ],
   "source": [
    "cost"
   ]
  },
  {
   "cell_type": "markdown",
   "id": "suitable-marsh",
   "metadata": {},
   "source": [
    "Part B"
   ]
  },
  {
   "cell_type": "code",
   "execution_count": 15,
   "id": "included-yield",
   "metadata": {},
   "outputs": [],
   "source": [
    "best_pos=minpos\n",
    "cost=np.inf\n",
    "all_costs=[]\n",
    "\n",
    "for cur_pos in range(minpos,maxpos+1):\n",
    "    abs_diff=np.abs(positions-cur_pos)\n",
    "    cur_cost=np.sum(0.5*abs_diff*(abs_diff+1))\n",
    "    if cur_cost<cost:\n",
    "        best_pos=cur_pos\n",
    "        cost=cur_cost\n",
    "    all_costs.append(cur_cost)\n",
    "                    "
   ]
  },
  {
   "cell_type": "code",
   "execution_count": 16,
   "id": "bronze-mexico",
   "metadata": {},
   "outputs": [
    {
     "data": {
      "text/plain": [
       "472"
      ]
     },
     "execution_count": 16,
     "metadata": {},
     "output_type": "execute_result"
    }
   ],
   "source": [
    "best_pos"
   ]
  },
  {
   "cell_type": "code",
   "execution_count": 17,
   "id": "worthy-waste",
   "metadata": {},
   "outputs": [
    {
     "data": {
      "text/plain": [
       "93699985.0"
      ]
     },
     "execution_count": 17,
     "metadata": {},
     "output_type": "execute_result"
    }
   ],
   "source": [
    "cost"
   ]
  },
  {
   "cell_type": "code",
   "execution_count": 18,
   "id": "trained-private",
   "metadata": {},
   "outputs": [
    {
     "data": {
      "text/plain": [
       "[<matplotlib.lines.Line2D at 0x24529a86f48>]"
      ]
     },
     "execution_count": 18,
     "metadata": {},
     "output_type": "execute_result"
    },
    {
     "data": {
      "image/png": "[encoded data removed]",
      "text/plain": [
       "<Figure size 432x288 with 1 Axes>"
      ]
     },
     "metadata": {
      "needs_background": "light"
     },
     "output_type": "display_data"
    }
   ],
   "source": [
    "plt.plot(all_costs)"
   ]
  },
  {
   "cell_type": "code",
   "execution_count": 20,
   "id": "sweet-playback",
   "metadata": {},
   "outputs": [
    {
     "data": {
      "image/png": "[encoded data removed]",
      "text/plain": [
       "<Figure size 432x288 with 1 Axes>"
      ]
     },
     "metadata": {
      "needs_background": "light"
     },
     "output_type": "display_data"
    }
   ],
   "source": [
    "plt.hist(positions,20);"
   ]
  }
 ],
 "metadata": {
  "kernelspec": {
   "display_name": "Python 3",
   "language": "python",
   "name": "python3"
  },
  "language_info": {
   "codemirror_mode": {
    "name": "ipython",
    "version": 3
   },
   "file_extension": ".py",
   "mimetype": "text/x-python",
   "name": "python",
   "nbconvert_exporter": "python",
   "pygments_lexer": "ipython3",
   "version": "3.6.13"
  }
 },
 "nbformat": 4,
 "nbformat_minor": 5
}
