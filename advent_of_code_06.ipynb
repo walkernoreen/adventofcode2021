{
 "cells": [
  {
   "cell_type": "markdown",
   "id": "excess-tampa",
   "metadata": {},
   "source": [
    "Part A &B"
   ]
  },
  {
   "cell_type": "code",
   "execution_count": 1,
   "id": "spiritual-azerbaijan",
   "metadata": {},
   "outputs": [],
   "source": [
    "import numpy as np"
   ]
  },
  {
   "cell_type": "code",
   "execution_count": 4,
   "id": "short-bridge",
   "metadata": {},
   "outputs": [
    {
     "data": {
      "text/plain": [
       "array([1., 1., 3., 5., 1., 1., 1., 4., 1., 5., 1., 1., 1., 1., 1., 1., 1.,\n",
       "       3., 1., 1., 1., 1., 2., 5., 1., 1., 1., 1., 1., 2., 1., 4., 1., 4.,\n",
       "       1., 1., 1., 1., 1., 3., 1., 1., 5., 1., 1., 1., 4., 1., 1., 1., 4.,\n",
       "       1., 1., 3., 5., 1., 1., 1., 1., 4., 1., 5., 4., 1., 1., 2., 3., 2.,\n",
       "       1., 1., 1., 1., 1., 1., 1., 1., 1., 1., 1., 1., 1., 5., 1., 1., 1.,\n",
       "       1., 1., 1., 1., 1., 2., 2., 1., 1., 1., 1., 1., 5., 1., 1., 1., 3.,\n",
       "       4., 1., 1., 1., 1., 3., 1., 1., 1., 1., 1., 4., 1., 1., 3., 1., 1.,\n",
       "       3., 1., 1., 1., 1., 1., 3., 1., 5., 2., 3., 1., 2., 3., 1., 1., 2.,\n",
       "       1., 2., 4., 5., 1., 5., 1., 4., 1., 1., 1., 1., 2., 1., 5., 1., 1.,\n",
       "       1., 1., 1., 5., 1., 1., 3., 1., 1., 1., 1., 1., 1., 4., 1., 2., 1.,\n",
       "       1., 1., 1., 1., 1., 1., 1., 1., 1., 1., 1., 1., 3., 2., 1., 1., 1.,\n",
       "       1., 2., 2., 1., 2., 1., 1., 1., 5., 5., 1., 1., 1., 1., 1., 1., 1.,\n",
       "       1., 1., 1., 1., 1., 2., 2., 1., 1., 4., 2., 1., 4., 1., 1., 1., 1.,\n",
       "       1., 1., 1., 2., 1., 2., 1., 1., 1., 1., 1., 1., 1., 1., 1., 1., 1.,\n",
       "       1., 1., 2., 2., 1., 5., 1., 1., 1., 1., 1., 1., 1., 1., 3., 1., 1.,\n",
       "       3., 3., 1., 1., 1., 3., 5., 1., 1., 4., 1., 1., 1., 1., 1., 4., 1.,\n",
       "       1., 3., 1., 1., 1., 1., 1., 1., 1., 1., 2., 1., 5., 1., 1., 1., 1.,\n",
       "       1., 1., 1., 1., 1., 1., 4., 1., 1., 1., 1.])"
      ]
     },
     "execution_count": 4,
     "metadata": {},
     "output_type": "execute_result"
    }
   ],
   "source": [
    "states_day_0=np.loadtxt(\"input06.txt\",delimiter=\",\")\n",
    "states_day_0"
   ]
  },
  {
   "cell_type": "code",
   "execution_count": 24,
   "id": "rough-bathroom",
   "metadata": {},
   "outputs": [
    {
     "data": {
      "text/plain": [
       "array([  0., 222.,  24.,  19.,  17.,  18.,   0.,   0.,   0.])"
      ]
     },
     "execution_count": 24,
     "metadata": {},
     "output_type": "execute_result"
    }
   ],
   "source": [
    "counts_per_state=np.zeros(9) # nr of fish in state: 0days, 1day, 2, 3, 4, 5, 6, 7, 8days\n",
    "\n",
    "# start count\n",
    "for idx in range(9):\n",
    "    counts_per_state[idx]=np.count_nonzero(states_day_0==idx)\n",
    "    \n",
    "counts_per_state"
   ]
  },
  {
   "cell_type": "code",
   "execution_count": 25,
   "id": "identified-remark",
   "metadata": {},
   "outputs": [],
   "source": [
    "def update(counts):\n",
    "    new_counts=np.zeros_like(counts)\n",
    "    for idx in range(8):\n",
    "        new_counts[idx]=counts[idx+1]\n",
    "    new_counts[8]=counts[0]\n",
    "    new_counts[6]+=counts[0]\n",
    "    return new_counts"
   ]
  },
  {
   "cell_type": "code",
   "execution_count": 26,
   "id": "sapphire-billy",
   "metadata": {},
   "outputs": [],
   "source": [
    "for day in range(256):\n",
    "    counts_per_state=update(counts_per_state)"
   ]
  },
  {
   "cell_type": "code",
   "execution_count": 27,
   "id": "dimensional-dependence",
   "metadata": {},
   "outputs": [
    {
     "data": {
      "text/plain": [
       "array([1.46712818e+11, 1.84289329e+11, 1.88786354e+11, 2.02168881e+11,\n",
       "       2.42460747e+11, 2.25357050e+11, 2.98390113e+11, 1.19908149e+11,\n",
       "       1.62750100e+11])"
      ]
     },
     "execution_count": 27,
     "metadata": {},
     "output_type": "execute_result"
    }
   ],
   "source": [
    "counts_per_state"
   ]
  },
  {
   "cell_type": "code",
   "execution_count": 28,
   "id": "swedish-component",
   "metadata": {},
   "outputs": [
    {
     "data": {
      "text/plain": [
       "1770823541496.0"
      ]
     },
     "execution_count": 28,
     "metadata": {},
     "output_type": "execute_result"
    }
   ],
   "source": [
    "sum(counts_per_state)"
   ]
  },
  {
   "cell_type": "code",
   "execution_count": null,
   "id": "cloudy-palmer",
   "metadata": {},
   "outputs": [],
   "source": []
  }
 ],
 "metadata": {
  "kernelspec": {
   "display_name": "Python 3",
   "language": "python",
   "name": "python3"
  },
  "language_info": {
   "codemirror_mode": {
    "name": "ipython",
    "version": 3
   },
   "file_extension": ".py",
   "mimetype": "text/x-python",
   "name": "python",
   "nbconvert_exporter": "python",
   "pygments_lexer": "ipython3",
   "version": "3.7.10"
  }
 },
 "nbformat": 4,
 "nbformat_minor": 5
}
