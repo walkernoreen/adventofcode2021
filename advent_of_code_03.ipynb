{
 "cells": [
  {
   "cell_type": "markdown",
   "id": "competent-pantyhose",
   "metadata": {},
   "source": [
    "Part A"
   ]
  },
  {
   "cell_type": "code",
   "execution_count": 5,
   "id": "documented-mason",
   "metadata": {},
   "outputs": [],
   "source": [
    "import numpy as np"
   ]
  },
  {
   "cell_type": "code",
   "execution_count": 6,
   "id": "joint-trademark",
   "metadata": {},
   "outputs": [],
   "source": [
    "fn=\"input03.txt\""
   ]
  },
  {
   "cell_type": "code",
   "execution_count": 18,
   "id": "recreational-discrimination",
   "metadata": {},
   "outputs": [],
   "source": [
    "lines=[]\n",
    "with open(fn,\"r\") as fin:\n",
    "    for line in fin:\n",
    "        line=line.strip()\n",
    "        line=[int(char) for char in line]\n",
    "        lines.append(line)"
   ]
  },
  {
   "cell_type": "code",
   "execution_count": 21,
   "id": "universal-sterling",
   "metadata": {},
   "outputs": [
    {
     "data": {
      "text/plain": [
       "(1000, 12)"
      ]
     },
     "execution_count": 21,
     "metadata": {},
     "output_type": "execute_result"
    }
   ],
   "source": [
    "arr=np.asarray(lines)\n",
    "arr.shape"
   ]
  },
  {
   "cell_type": "code",
   "execution_count": 28,
   "id": "fundamental-silicon",
   "metadata": {},
   "outputs": [
    {
     "name": "stdout",
     "output_type": "stream",
     "text": [
      "[487 485 519 505 480 495 509 482 492 520 484 502]\n"
     ]
    },
    {
     "data": {
      "text/plain": [
       "array([0, 0, 1, 1, 0, 0, 1, 0, 0, 1, 0, 1])"
      ]
     },
     "execution_count": 28,
     "metadata": {},
     "output_type": "execute_result"
    }
   ],
   "source": [
    "count_ones=np.count_nonzero(arr,axis=0)\n",
    "print(count_ones)\n",
    "one_is_dominant=count_ones>arr.shape[0]*0.5\n",
    "gamma=one_is_dominant.astype(np.int)\n",
    "\n",
    "gamma"
   ]
  },
  {
   "cell_type": "code",
   "execution_count": 35,
   "id": "filled-munich",
   "metadata": {},
   "outputs": [
    {
     "data": {
      "text/plain": [
       "'001100100101'"
      ]
     },
     "execution_count": 35,
     "metadata": {},
     "output_type": "execute_result"
    }
   ],
   "source": [
    "str_gamma=[str(x) for x in list(gamma)]\n",
    "str_gamma=\"\".join(str_gamma)\n",
    "str_gamma"
   ]
  },
  {
   "cell_type": "code",
   "execution_count": 37,
   "id": "unlimited-macedonia",
   "metadata": {},
   "outputs": [
    {
     "data": {
      "text/plain": [
       "805"
      ]
     },
     "execution_count": 37,
     "metadata": {},
     "output_type": "execute_result"
    }
   ],
   "source": [
    "# the final gamma\n",
    "int(str_gamma,2)"
   ]
  },
  {
   "cell_type": "code",
   "execution_count": 38,
   "id": "interim-interval",
   "metadata": {},
   "outputs": [
    {
     "data": {
      "text/plain": [
       "'110011011010'"
      ]
     },
     "execution_count": 38,
     "metadata": {},
     "output_type": "execute_result"
    }
   ],
   "source": [
    "str_epsilon = ''.join(['1' if i == '0' else '0' for i in str_gamma])\n",
    "str_epsilon"
   ]
  },
  {
   "cell_type": "code",
   "execution_count": 39,
   "id": "beautiful-brighton",
   "metadata": {},
   "outputs": [
    {
     "data": {
      "text/plain": [
       "3290"
      ]
     },
     "execution_count": 39,
     "metadata": {},
     "output_type": "execute_result"
    }
   ],
   "source": [
    "# the final epsilon\n",
    "int(str_epsilon,2)"
   ]
  },
  {
   "cell_type": "code",
   "execution_count": 40,
   "id": "linear-citizenship",
   "metadata": {},
   "outputs": [
    {
     "data": {
      "text/plain": [
       "2648450"
      ]
     },
     "execution_count": 40,
     "metadata": {},
     "output_type": "execute_result"
    }
   ],
   "source": [
    "805*3290"
   ]
  },
  {
   "cell_type": "markdown",
   "id": "material-syntax",
   "metadata": {},
   "source": [
    "Part B"
   ]
  },
  {
   "cell_type": "code",
   "execution_count": 42,
   "id": "awful-solid",
   "metadata": {},
   "outputs": [],
   "source": [
    "arr_backup=arr.copy()"
   ]
  },
  {
   "cell_type": "code",
   "execution_count": 88,
   "id": "played-stable",
   "metadata": {},
   "outputs": [],
   "source": [
    "def reduce_array(arr, gamma=True):\n",
    "    arr=arr.copy()\n",
    "    \n",
    "    idx=0 # column idx\n",
    "    while arr.shape[0]>1:\n",
    "        print(arr.shape)\n",
    "        if gamma:\n",
    "            one_is_most_common=sum(arr[:,idx])>=0.5*arr.shape[0]\n",
    "            keep_nr=1 if one_is_most_common else 0\n",
    "        # epsilon\n",
    "        else:\n",
    "            one_least_common=sum(arr[:,idx])<0.5*arr.shape[0]\n",
    "            keep_nr=1 if one_least_common else 0\n",
    "            \n",
    "        arr=arr[arr[:,idx]==keep_nr]\n",
    "\n",
    "        idx=(idx+1)%arr.shape[1] # next column idx\n",
    "        \n",
    "    return arr\n"
   ]
  },
  {
   "cell_type": "code",
   "execution_count": 89,
   "id": "declared-tooth",
   "metadata": {},
   "outputs": [],
   "source": [
    "def arr1d_to_int(arr1d):\n",
    "    str_arr=[str(x) for x in list(np.squeeze(arr1d))]\n",
    "    str_arr=\"\".join(str_arr)\n",
    "    return int(str_arr,2)"
   ]
  },
  {
   "cell_type": "code",
   "execution_count": 90,
   "id": "equivalent-cassette",
   "metadata": {},
   "outputs": [
    {
     "name": "stdout",
     "output_type": "stream",
     "text": [
      "(1000, 12)\n",
      "(513, 12)\n",
      "(266, 12)\n",
      "(139, 12)\n",
      "(73, 12)\n",
      "(43, 12)\n",
      "(22, 12)\n",
      "(12, 12)\n",
      "(8, 12)\n",
      "(5, 12)\n",
      "(3, 12)\n",
      "(2, 12)\n"
     ]
    },
    {
     "data": {
      "text/plain": [
       "841"
      ]
     },
     "execution_count": 90,
     "metadata": {},
     "output_type": "execute_result"
    }
   ],
   "source": [
    "# gamma\n",
    "arr1d_to_int(reduce_array(arr,True))"
   ]
  },
  {
   "cell_type": "code",
   "execution_count": 91,
   "id": "tight-throat",
   "metadata": {},
   "outputs": [
    {
     "name": "stdout",
     "output_type": "stream",
     "text": [
      "(1000, 12)\n",
      "(487, 12)\n",
      "(238, 12)\n",
      "(105, 12)\n",
      "(45, 12)\n",
      "(20, 12)\n",
      "(10, 12)\n",
      "(4, 12)\n"
     ]
    },
    {
     "data": {
      "text/plain": [
       "3384"
      ]
     },
     "execution_count": 91,
     "metadata": {},
     "output_type": "execute_result"
    }
   ],
   "source": [
    "# epsilon\n",
    "arr1d_to_int(reduce_array(arr,False))"
   ]
  },
  {
   "cell_type": "code",
   "execution_count": 92,
   "id": "homeless-notice",
   "metadata": {},
   "outputs": [
    {
     "data": {
      "text/plain": [
       "2845944"
      ]
     },
     "execution_count": 92,
     "metadata": {},
     "output_type": "execute_result"
    }
   ],
   "source": [
    "841*3384"
   ]
  },
  {
   "cell_type": "code",
   "execution_count": null,
   "id": "native-treatment",
   "metadata": {},
   "outputs": [],
   "source": []
  }
 ],
 "metadata": {
  "kernelspec": {
   "display_name": "Python 3",
   "language": "python",
   "name": "python3"
  },
  "language_info": {
   "codemirror_mode": {
    "name": "ipython",
    "version": 3
   },
   "file_extension": ".py",
   "mimetype": "text/x-python",
   "name": "python",
   "nbconvert_exporter": "python",
   "pygments_lexer": "ipython3",
   "version": "3.7.10"
  }
 },
 "nbformat": 4,
 "nbformat_minor": 5
}
